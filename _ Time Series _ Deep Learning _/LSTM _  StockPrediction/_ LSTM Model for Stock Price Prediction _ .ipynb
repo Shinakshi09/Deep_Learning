{
 "cells": [
  {
   "cell_type": "code",
   "execution_count": 1,
   "metadata": {},
   "outputs": [],
   "source": [
    "\"\"\" \n",
    "\n",
    "This LSTM Model will capture the downwards and upwards trends of the Google Stock Price \n",
    "\n",
    "Data Set Description :\n",
    "\n",
    "5 Years of Stock Dataset from 2012 to 2016 :\n",
    "\n",
    "Need to predict the first month of 2017 Stock price. Not the exactly but Need to Predict Downwards and Upwards stock price\n",
    "\n",
    "\"\"\"\n",
    "\n",
    "import pandas as pd\n",
    "import numpy as np\n",
    "\n",
    "import matplotlib.pyplot as plt\n",
    "\n"
   ]
  },
  {
   "cell_type": "code",
   "execution_count": 2,
   "metadata": {},
   "outputs": [],
   "source": [
    "\"\"\"\n",
    "\n",
    "Importing the datasets\n",
    "\n",
    "\"\"\"\n",
    "\n",
    "dataset_train = pd.read_csv('Google_Stock_Price_Train.csv')\n",
    "\n",
    "\"\"\"\n",
    "Let's select the correct columns we need, To do that Will use iloc method which accepts rows and Columns in a range \n",
    "\n",
    "And also as a single value. I am taking range here instead of selecting the colum because I am creating the Numpy array\n",
    "\n",
    "which will allow us to have numpy array of just one column which is column \"OPEN\" in the dataset. To make a simple iloc\n",
    "\n",
    "dataset a numpy array which just need to add \".values\"\n",
    "\n",
    "Training_Set will be the dataset where I will be training my LSTM model. \n",
    "\n",
    "\"\"\"\n",
    "\n",
    "training_set = dataset_train.iloc[:, 1:2].values"
   ]
  },
  {
   "cell_type": "code",
   "execution_count": 3,
   "metadata": {},
   "outputs": [
    {
     "data": {
      "text/plain": [
       "array([[325.25],\n",
       "       [331.27],\n",
       "       [329.83],\n",
       "       ...,\n",
       "       [793.7 ],\n",
       "       [783.33],\n",
       "       [782.75]])"
      ]
     },
     "execution_count": 3,
     "metadata": {},
     "output_type": "execute_result"
    }
   ],
   "source": [
    "training_set"
   ]
  },
  {
   "cell_type": "code",
   "execution_count": 4,
   "metadata": {},
   "outputs": [
    {
     "data": {
      "text/plain": [
       "Date      0\n",
       "Open      0\n",
       "High      0\n",
       "Low       0\n",
       "Close     0\n",
       "Volume    0\n",
       "dtype: int64"
      ]
     },
     "execution_count": 4,
     "metadata": {},
     "output_type": "execute_result"
    }
   ],
   "source": [
    "\"\"\"\n",
    "\n",
    "Checking for Null values in the actual dataset \n",
    "\n",
    "\"\"\"\n",
    "\n",
    "dataset_train.isnull().sum()"
   ]
  },
  {
   "cell_type": "code",
   "execution_count": 5,
   "metadata": {},
   "outputs": [],
   "source": [
    "\"\"\"\n",
    "\n",
    "For Feature Scaling, I will be using Normalisation because LSTM uses sigmoid activation function and whenever you are using\n",
    "\n",
    "sigmoid as your output activation function. Apply Normalisation technique for scaling the observations.\n",
    "\n",
    "\"\"\"\n",
    "\n",
    "\n",
    "from sklearn.preprocessing import MinMaxScaler\n",
    "sc = MinMaxScaler(feature_range = (0, 1))\n",
    "training_set_scaled = sc.fit_transform(training_set)"
   ]
  },
  {
   "cell_type": "code",
   "execution_count": 6,
   "metadata": {},
   "outputs": [
    {
     "data": {
      "text/plain": [
       "array([[0.08581368],\n",
       "       [0.09701243],\n",
       "       [0.09433366],\n",
       "       ...,\n",
       "       [0.95725128],\n",
       "       [0.93796041],\n",
       "       [0.93688146]])"
      ]
     },
     "execution_count": 6,
     "metadata": {},
     "output_type": "execute_result"
    }
   ],
   "source": [
    "training_set_scaled"
   ]
  },
  {
   "cell_type": "code",
   "execution_count": 7,
   "metadata": {},
   "outputs": [],
   "source": [
    "\"\"\" \n",
    "Let's create the Data Structure with 60 Time stamps and 1 output _\n",
    "60 Time stamps means at each time T, the RNN is going to look at the 60 Stock prices before time T. That is stock\n",
    "prices between 60 days before time T and time T\n",
    "And Based on the Trends It is capturing, During these 60 previous time steps It will try to predict the next output.\n",
    "So 60 time steps of the Past information from which our RNN is going to learn and understand some correlation. or some\n",
    "trends and based on its understanding, It will predict the next output. That will be Stock Prize at time (t+1)\n",
    "We can do some experiments with the number of time steps.\n",
    "I tried 1 time step and also other time step. Where taking 1 time step led to overfitting and Model did not learn anything\n",
    ". Also experimented with 20 Time steps which was also not good. \n",
    "Once again. 20 Time steps, 1 Time steps etc are only previous values which we are taking. \n",
    "\n",
    "\"\"\"\n",
    "\n",
    "\n",
    "\"\"\"\n",
    "Now Will create the input and output. X_Train will be the input to Neural network and y_train is going to be output to neural network\n",
    "So for Every Stock prices, X_Train (the input) will contain 60 previous Stock Prices and y_train will contain the next\n",
    "stock price\n",
    "Hence. Let's create X_train and y_train and Will consider them as empty list for now And then Populate the X_Train with 60 Previous stock price\n",
    "And y_train will be next stock price.\n",
    "\"\"\"\n",
    "\n",
    "X_train = []\n",
    "y_train = []\n",
    "\n",
    "\n",
    "\"\"\"\n",
    "Using a for loop to populate\n",
    "60 is the index of stock prices we will start training our neural network to the last index of the training dataset\n",
    "which is 1258\n",
    "\"\"\"\n",
    "for i in range(60, 1258):\n",
    "    \n",
    "    \"\"\"\n",
    "    And Will append the 60 previous stock prices into new X_Train dataset which will be used for training\n",
    "    Zero means I am taking index zero and this new X_Train has only one column which is index zero\n",
    "    \"\"\"\n",
    "    X_train.append(training_set_scaled[i-60:i, 0])\n",
    "    \n",
    "    \"\"\"\n",
    "    As Already mentioned above, in y_train we just need stock price at time (t+1)\n",
    "    \"\"\"\n",
    "    y_train.append(training_set_scaled[i, 0])\n",
    "    \n",
    "    \n",
    "X_train, y_train = np.array(X_train), np.array(y_train)\n",
    "\n",
    "\n"
   ]
  },
  {
   "cell_type": "code",
   "execution_count": 8,
   "metadata": {},
   "outputs": [],
   "source": [
    "\"\"\"\n",
    "Number of predictors, We want to use. Will add few new Dimensions. And To do that Will use Reshape function.\n",
    "\n",
    "In Numpy array, Anytime We want to add new Dimensions in numpy array function. Will use Reshape function.\n",
    "\n",
    "\n",
    "This function accepts :\n",
    "\n",
    "1. What we want to reshape\n",
    "\n",
    "2. New Structure we want our numpy array X_train to have\n",
    "\n",
    "\n",
    "From Keras Documentation \n",
    "\n",
    "\n",
    "Call arguments\n",
    "\n",
    "inputs: A 3D tensor with shape [batch, timesteps, feature].\n",
    "\n",
    "Batch size. = Total number of observations from 2012 to 2016,\n",
    "\n",
    "Timesteps = 60\n",
    "\n",
    "Feature = 1\n",
    "\"\"\"\n",
    "\n",
    "\n",
    "X_train = np.reshape(X_train, (X_train.shape[0], X_train.shape[1], 1))"
   ]
  },
  {
   "cell_type": "code",
   "execution_count": 9,
   "metadata": {},
   "outputs": [
    {
     "data": {
      "text/plain": [
       "(1198, 60, 1)"
      ]
     },
     "execution_count": 9,
     "metadata": {},
     "output_type": "execute_result"
    }
   ],
   "source": [
    "X_train.shape"
   ]
  },
  {
   "cell_type": "markdown",
   "metadata": {},
   "source": [
    "## Building RNN Model"
   ]
  },
  {
   "cell_type": "code",
   "execution_count": 10,
   "metadata": {},
   "outputs": [],
   "source": [
    "from keras.models import Sequential\n",
    "from keras.layers import Dense\n",
    "from keras.layers import LSTM\n",
    "from keras.layers import Dropout"
   ]
  },
  {
   "cell_type": "code",
   "execution_count": 11,
   "metadata": {},
   "outputs": [],
   "source": [
    "regressor = Sequential()"
   ]
  },
  {
   "cell_type": "code",
   "execution_count": 12,
   "metadata": {},
   "outputs": [],
   "source": [
    "\"\"\"\n",
    "Adding first LSTM layer and some Drop out layers\n",
    "\n",
    "Setting Return sequence parameter to True because I am adding another stack layer\n",
    "\n",
    "\"\"\"\n",
    "regressor.add(LSTM(units = 50, return_sequences = True, input_shape = (X_train.shape[1], 1)))\n",
    "regressor.add(Dropout(0.2))\n"
   ]
  },
  {
   "cell_type": "code",
   "execution_count": 13,
   "metadata": {},
   "outputs": [],
   "source": [
    "\"\"\"\n",
    "\n",
    "Adding second layer\n",
    "\n",
    "\"\"\"\n",
    "\n",
    "regressor.add(LSTM(units = 50, return_sequences = True))\n",
    "regressor.add(Dropout(0.2))"
   ]
  },
  {
   "cell_type": "code",
   "execution_count": 14,
   "metadata": {},
   "outputs": [],
   "source": [
    "\"\"\"\n",
    "Third Layer\n",
    "\"\"\"\n",
    "\n",
    "regressor.add(LSTM(units = 50, return_sequences = True))\n",
    "regressor.add(Dropout(0.2))"
   ]
  },
  {
   "cell_type": "code",
   "execution_count": 15,
   "metadata": {},
   "outputs": [],
   "source": [
    "\"\"\"\n",
    "\n",
    "Fourth Layer\n",
    "\n",
    "\"\"\"\n",
    "\n",
    "regressor.add(LSTM(units = 50))\n",
    "regressor.add(Dropout(0.2))"
   ]
  },
  {
   "cell_type": "code",
   "execution_count": 16,
   "metadata": {},
   "outputs": [],
   "source": [
    "\"\"\"\n",
    "\n",
    "Output Layer\n",
    "\n",
    "\"\"\"\n",
    "\n",
    "regressor.add(Dense(units = 1))"
   ]
  },
  {
   "cell_type": "code",
   "execution_count": 17,
   "metadata": {},
   "outputs": [],
   "source": [
    "\"\"\"\n",
    "\n",
    "Compiling the RNN \n",
    "\n",
    "\"\"\"\n",
    "\n",
    "regressor.compile(optimizer = 'adam', loss = 'mean_squared_error')"
   ]
  },
  {
   "cell_type": "code",
   "execution_count": 18,
   "metadata": {},
   "outputs": [
    {
     "name": "stdout",
     "output_type": "stream",
     "text": [
      "Epoch 1/100\n",
      "38/38 [==============================] - 6s 157ms/step - loss: 0.0355\n",
      "Epoch 2/100\n",
      "38/38 [==============================] - 5s 136ms/step - loss: 0.0067\n",
      "Epoch 3/100\n",
      "38/38 [==============================] - 5s 127ms/step - loss: 0.0055\n",
      "Epoch 4/100\n",
      "38/38 [==============================] - 5s 136ms/step - loss: 0.0046\n",
      "Epoch 5/100\n",
      "38/38 [==============================] - 5s 123ms/step - loss: 0.0051\n",
      "Epoch 6/100\n",
      "38/38 [==============================] - 5s 134ms/step - loss: 0.0051\n",
      "Epoch 7/100\n",
      "38/38 [==============================] - 5s 128ms/step - loss: 0.0050\n",
      "Epoch 8/100\n",
      "38/38 [==============================] - 5s 125ms/step - loss: 0.0050\n",
      "Epoch 9/100\n",
      "38/38 [==============================] - 5s 124ms/step - loss: 0.0051\n",
      "Epoch 10/100\n",
      "38/38 [==============================] - 5s 123ms/step - loss: 0.0055\n",
      "Epoch 11/100\n",
      "38/38 [==============================] - 5s 122ms/step - loss: 0.0038\n",
      "Epoch 12/100\n",
      "38/38 [==============================] - 5s 124ms/step - loss: 0.0037\n",
      "Epoch 13/100\n",
      "38/38 [==============================] - 5s 124ms/step - loss: 0.0036\n",
      "Epoch 14/100\n",
      "38/38 [==============================] - 5s 124ms/step - loss: 0.0037\n",
      "Epoch 15/100\n",
      "38/38 [==============================] - 5s 122ms/step - loss: 0.0037\n",
      "Epoch 16/100\n",
      "38/38 [==============================] - 5s 121ms/step - loss: 0.0036\n",
      "Epoch 17/100\n",
      "38/38 [==============================] - 5s 128ms/step - loss: 0.0044\n",
      "Epoch 18/100\n",
      "38/38 [==============================] - 5s 123ms/step - loss: 0.0033\n",
      "Epoch 19/100\n",
      "38/38 [==============================] - 5s 126ms/step - loss: 0.0038\n",
      "Epoch 20/100\n",
      "38/38 [==============================] - 5s 132ms/step - loss: 0.0032\n",
      "Epoch 21/100\n",
      "38/38 [==============================] - 5s 125ms/step - loss: 0.0031\n",
      "Epoch 22/100\n",
      "38/38 [==============================] - 5s 121ms/step - loss: 0.0035\n",
      "Epoch 23/100\n",
      "38/38 [==============================] - 5s 121ms/step - loss: 0.0037\n",
      "Epoch 24/100\n",
      "38/38 [==============================] - 5s 121ms/step - loss: 0.0030\n",
      "Epoch 25/100\n",
      "38/38 [==============================] - 5s 120ms/step - loss: 0.0031\n",
      "Epoch 26/100\n",
      "38/38 [==============================] - 5s 121ms/step - loss: 0.0030\n",
      "Epoch 27/100\n",
      "38/38 [==============================] - 5s 123ms/step - loss: 0.0032\n",
      "Epoch 28/100\n",
      "38/38 [==============================] - 5s 118ms/step - loss: 0.0038\n",
      "Epoch 29/100\n",
      "38/38 [==============================] - 5s 120ms/step - loss: 0.0030\n",
      "Epoch 30/100\n",
      "38/38 [==============================] - 5s 120ms/step - loss: 0.0030\n",
      "Epoch 31/100\n",
      "38/38 [==============================] - 5s 120ms/step - loss: 0.0028\n",
      "Epoch 32/100\n",
      "38/38 [==============================] - 5s 121ms/step - loss: 0.0034\n",
      "Epoch 33/100\n",
      "38/38 [==============================] - 5s 123ms/step - loss: 0.0030\n",
      "Epoch 34/100\n",
      "38/38 [==============================] - 5s 120ms/step - loss: 0.0028\n",
      "Epoch 35/100\n",
      "38/38 [==============================] - 5s 120ms/step - loss: 0.0027\n",
      "Epoch 36/100\n",
      "38/38 [==============================] - 5s 121ms/step - loss: 0.0026\n",
      "Epoch 37/100\n",
      "38/38 [==============================] - 5s 121ms/step - loss: 0.0026\n",
      "Epoch 38/100\n",
      "38/38 [==============================] - 5s 120ms/step - loss: 0.0031\n",
      "Epoch 39/100\n",
      "38/38 [==============================] - 5s 121ms/step - loss: 0.0026\n",
      "Epoch 40/100\n",
      "38/38 [==============================] - 5s 120ms/step - loss: 0.0026\n",
      "Epoch 41/100\n",
      "38/38 [==============================] - 5s 121ms/step - loss: 0.0026\n",
      "Epoch 42/100\n",
      "38/38 [==============================] - 5s 120ms/step - loss: 0.0024\n",
      "Epoch 43/100\n",
      "38/38 [==============================] - 5s 121ms/step - loss: 0.0022\n",
      "Epoch 44/100\n",
      "38/38 [==============================] - 5s 120ms/step - loss: 0.0022\n",
      "Epoch 45/100\n",
      "38/38 [==============================] - 5s 121ms/step - loss: 0.0027\n",
      "Epoch 46/100\n",
      "38/38 [==============================] - 5s 120ms/step - loss: 0.0025\n",
      "Epoch 47/100\n",
      "38/38 [==============================] - 5s 121ms/step - loss: 0.0022\n",
      "Epoch 48/100\n",
      "38/38 [==============================] - 5s 120ms/step - loss: 0.0024\n",
      "Epoch 49/100\n",
      "38/38 [==============================] - 5s 120ms/step - loss: 0.0026\n",
      "Epoch 50/100\n",
      "38/38 [==============================] - 5s 120ms/step - loss: 0.0027\n",
      "Epoch 51/100\n",
      "38/38 [==============================] - 5s 121ms/step - loss: 0.0023\n",
      "Epoch 52/100\n",
      "38/38 [==============================] - 5s 122ms/step - loss: 0.0025\n",
      "Epoch 53/100\n",
      "38/38 [==============================] - 5s 120ms/step - loss: 0.0022\n",
      "Epoch 54/100\n",
      "38/38 [==============================] - 5s 119ms/step - loss: 0.0022\n",
      "Epoch 55/100\n",
      "38/38 [==============================] - 5s 120ms/step - loss: 0.0022\n",
      "Epoch 56/100\n",
      "38/38 [==============================] - 5s 120ms/step - loss: 0.0024\n",
      "Epoch 57/100\n",
      "38/38 [==============================] - 5s 120ms/step - loss: 0.0023\n",
      "Epoch 58/100\n",
      "38/38 [==============================] - 5s 120ms/step - loss: 0.0020\n",
      "Epoch 59/100\n",
      "38/38 [==============================] - 5s 119ms/step - loss: 0.0022\n",
      "Epoch 60/100\n",
      "38/38 [==============================] - 5s 120ms/step - loss: 0.0021\n",
      "Epoch 61/100\n",
      "38/38 [==============================] - 5s 120ms/step - loss: 0.0022\n",
      "Epoch 62/100\n",
      "38/38 [==============================] - 5s 121ms/step - loss: 0.0019\n",
      "Epoch 63/100\n",
      "38/38 [==============================] - 5s 120ms/step - loss: 0.0021\n",
      "Epoch 64/100\n",
      "38/38 [==============================] - 5s 121ms/step - loss: 0.0022\n",
      "Epoch 65/100\n",
      "38/38 [==============================] - 5s 120ms/step - loss: 0.0022\n",
      "Epoch 66/100\n",
      "38/38 [==============================] - 5s 121ms/step - loss: 0.0019\n",
      "Epoch 67/100\n",
      "38/38 [==============================] - 5s 120ms/step - loss: 0.0019\n",
      "Epoch 68/100\n",
      "38/38 [==============================] - 5s 120ms/step - loss: 0.0019\n",
      "Epoch 69/100\n",
      "38/38 [==============================] - 5s 121ms/step - loss: 0.0019\n",
      "Epoch 70/100\n",
      "38/38 [==============================] - 5s 120ms/step - loss: 0.0020\n",
      "Epoch 71/100\n",
      "38/38 [==============================] - 5s 121ms/step - loss: 0.0020\n",
      "Epoch 72/100\n",
      "38/38 [==============================] - 5s 119ms/step - loss: 0.0016\n",
      "Epoch 73/100\n",
      "38/38 [==============================] - 5s 120ms/step - loss: 0.0018\n",
      "Epoch 74/100\n",
      "38/38 [==============================] - 5s 119ms/step - loss: 0.0018\n",
      "Epoch 75/100\n",
      "38/38 [==============================] - 5s 122ms/step - loss: 0.0021\n",
      "Epoch 76/100\n",
      "38/38 [==============================] - 5s 123ms/step - loss: 0.0017\n",
      "Epoch 77/100\n",
      "38/38 [==============================] - 5s 120ms/step - loss: 0.0018\n",
      "Epoch 78/100\n",
      "38/38 [==============================] - 5s 119ms/step - loss: 0.0016\n",
      "Epoch 79/100\n",
      "38/38 [==============================] - 5s 120ms/step - loss: 0.0018\n",
      "Epoch 80/100\n",
      "38/38 [==============================] - 5s 119ms/step - loss: 0.0017\n",
      "Epoch 81/100\n",
      "38/38 [==============================] - 5s 125ms/step - loss: 0.0018\n",
      "Epoch 82/100\n",
      "38/38 [==============================] - 5s 121ms/step - loss: 0.0015\n",
      "Epoch 83/100\n",
      "38/38 [==============================] - 5s 121ms/step - loss: 0.0017\n",
      "Epoch 84/100\n",
      "38/38 [==============================] - 5s 121ms/step - loss: 0.0016\n",
      "Epoch 85/100\n",
      "38/38 [==============================] - 5s 121ms/step - loss: 0.0015\n",
      "Epoch 86/100\n",
      "38/38 [==============================] - 5s 120ms/step - loss: 0.0017\n",
      "Epoch 87/100\n",
      "38/38 [==============================] - 5s 121ms/step - loss: 0.0017\n",
      "Epoch 88/100\n",
      "38/38 [==============================] - 5s 121ms/step - loss: 0.0016\n",
      "Epoch 89/100\n",
      "38/38 [==============================] - 5s 119ms/step - loss: 0.0014\n",
      "Epoch 90/100\n",
      "38/38 [==============================] - 5s 121ms/step - loss: 0.0016\n",
      "Epoch 91/100\n",
      "38/38 [==============================] - 5s 121ms/step - loss: 0.0015\n",
      "Epoch 92/100\n",
      "38/38 [==============================] - 5s 120ms/step - loss: 0.0016\n",
      "Epoch 93/100\n",
      "38/38 [==============================] - 5s 119ms/step - loss: 0.0016\n",
      "Epoch 94/100\n",
      "38/38 [==============================] - 5s 121ms/step - loss: 0.0015\n",
      "Epoch 95/100\n",
      "38/38 [==============================] - 5s 120ms/step - loss: 0.0015\n",
      "Epoch 96/100\n",
      "38/38 [==============================] - 5s 120ms/step - loss: 0.0016\n",
      "Epoch 97/100\n",
      "38/38 [==============================] - 5s 120ms/step - loss: 0.0016\n",
      "Epoch 98/100\n",
      "38/38 [==============================] - 5s 120ms/step - loss: 0.0017\n",
      "Epoch 99/100\n",
      "38/38 [==============================] - 5s 119ms/step - loss: 0.0017\n",
      "Epoch 100/100\n",
      "38/38 [==============================] - 5s 122ms/step - loss: 0.0014\n"
     ]
    },
    {
     "data": {
      "text/plain": [
       "<tensorflow.python.keras.callbacks.History at 0x13f519150>"
      ]
     },
     "execution_count": 18,
     "metadata": {},
     "output_type": "execute_result"
    }
   ],
   "source": [
    "\"\"\"\n",
    "\n",
    "Fitting and Training on the Training set\n",
    "\n",
    "\"\"\"\n",
    "\n",
    "regressor.fit(X_train, y_train, epochs = 100, batch_size = 32)"
   ]
  },
  {
   "cell_type": "code",
   "execution_count": 20,
   "metadata": {},
   "outputs": [],
   "source": [
    "\"\"\"\n",
    "\n",
    "Making Predictions on the test dataset\n",
    "\n",
    "\"\"\"\n",
    "\n",
    "dataset_test = pd.read_csv('Google_Stock_Price_Test.csv')\n",
    "real_stock_price = dataset_test.iloc[:, 1:2].values"
   ]
  },
  {
   "cell_type": "code",
   "execution_count": 21,
   "metadata": {},
   "outputs": [],
   "source": [
    "\"\"\"\n",
    "Getting the Predicted Stock Price of 2017\n",
    "\n",
    "\"\"\"\n",
    "\n",
    "\n",
    "dataset_total = pd.concat((dataset_train['Open'], dataset_test['Open']), axis = 0)\n",
    "inputs = dataset_total[len(dataset_total) - len(dataset_test) - 60:].values\n",
    "inputs = inputs.reshape(-1,1)\n",
    "inputs = sc.transform(inputs)\n",
    "X_test = []\n",
    "for i in range(60, 80):\n",
    "    X_test.append(inputs[i-60:i, 0])\n",
    "X_test = np.array(X_test)\n",
    "X_test = np.reshape(X_test, (X_test.shape[0], X_test.shape[1], 1))\n",
    "predicted_stock_price = regressor.predict(X_test)\n",
    "predicted_stock_price = sc.inverse_transform(predicted_stock_price)"
   ]
  },
  {
   "cell_type": "code",
   "execution_count": 22,
   "metadata": {},
   "outputs": [
    {
     "data": {
      "image/png": "[encoded data removed]",
      "text/plain": [
       "<Figure size 432x288 with 1 Axes>"
      ]
     },
     "metadata": {
      "needs_background": "light"
     },
     "output_type": "display_data"
    }
   ],
   "source": [
    "\"\"\" \n",
    "\n",
    "Let's Visualise the Result\n",
    "\n",
    "\"\"\"\n",
    "\n",
    "plt.plot(real_stock_price, color = 'red', label = 'Real Google Stock Price')\n",
    "plt.plot(predicted_stock_price, color = 'blue', label = 'Predicted Google Stock Price')\n",
    "plt.title('Google Stock Price Prediction')\n",
    "plt.xlabel('Time')\n",
    "plt.ylabel('Google Stock Price')\n",
    "plt.legend()\n",
    "plt.show()"
   ]
  },
  {
   "cell_type": "code",
   "execution_count": null,
   "metadata": {},
   "outputs": [],
   "source": []
  }
 ],
 "metadata": {
  "kernelspec": {
   "display_name": "Python 3",
   "language": "python",
   "name": "python3"
  },
  "language_info": {
   "codemirror_mode": {
    "name": "ipython",
    "version": 3
   },
   "file_extension": ".py",
   "mimetype": "text/x-python",
   "name": "python",
   "nbconvert_exporter": "python",
   "pygments_lexer": "ipython3",
   "version": "3.7.8"
  }
 },
 "nbformat": 4,
 "nbformat_minor": 4
}
