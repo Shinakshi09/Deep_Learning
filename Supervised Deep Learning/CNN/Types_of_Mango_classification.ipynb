{
 "cells": [
  {
   "cell_type": "code",
   "execution_count": 49,
   "metadata": {},
   "outputs": [],
   "source": [
    "import numpy as np\n",
    "import matplotlib.pyplot as plt\n",
    "import tensorflow as tf\n",
    "import keras\n",
    "from keras.models import Sequential\n",
    "from keras.layers import Activation\n",
    "from keras.layers.core import Dense, Flatten, Dropout\n",
    "from keras.optimizers import Adam\n",
    "from keras.metrics import categorical_crossentropy\n",
    "from keras.preprocessing.image import ImageDataGenerator\n",
    "from keras.layers.normalization import BatchNormalization\n",
    "from keras.layers.convolutional import Conv2D\n",
    "from sklearn.metrics import confusion_matrix\n",
    "import itertools\n",
    "%matplotlib inline\n",
    "from keras.layers import Conv2D,MaxPool2D, MaxPooling2D\n",
    "from keras.optimizers import SGD\n",
    "from keras.callbacks import ModelCheckpoint\n",
    "from keras.optimizers import RMSprop\n",
    "from keras.callbacks import EarlyStopping, ReduceLROnPlateau"
   ]
  },
  {
   "cell_type": "code",
   "execution_count": 50,
   "metadata": {},
   "outputs": [
    {
     "name": "stdout",
     "output_type": "stream",
     "text": [
      "Found 763 images belonging to 4 classes.\n",
      "Found 240 images belonging to 4 classes.\n"
     ]
    }
   ],
   "source": [
    "train_datagen = ImageDataGenerator(rescale= 1./255, shear_range=0.2, zoom_range=0.2, horizontal_flip=True)\n",
    "\n",
    "val_datagen = ImageDataGenerator(rescale=1./255)\n",
    "#test_datagen = ImageDataGenerator (rescale = 1./255)\n",
    "\n",
    "training_set = train_datagen.flow_from_directory(\"Train\",\n",
    "                                                 target_size = (224, 224),\n",
    "                                                 batch_size = 64,\n",
    "                                                 class_mode = 'categorical') \n",
    "\n",
    "Validation_set = val_datagen.flow_from_directory(\"Validation\",\n",
    "                                            target_size = (224, 224),\n",
    "                                            batch_size = 64,\n",
    "                                            class_mode = 'categorical')\n",
    "#test_set = test_datagen.flow_from_directory('Test', target_size= (224,224), class_mode= 'categorical')\n"
   ]
  },
  {
   "cell_type": "raw",
   "metadata": {},
   "source": [
    "from keras.preprocessing.image import ImageDataGenerator, array_to_img, img_to_array, load_img\n",
    "\n",
    "datagen = ImageDataGenerator(\n",
    "        rotation_range=40,\n",
    "        width_shift_range=0.2,\n",
    "        height_shift_range=0.2,\n",
    "        shear_range=0.2,\n",
    "        zoom_range=0.2,\n",
    "        horizontal_flip=True,\n",
    "        fill_mode='nearest')\n",
    "\n",
    "img = load_img('train/Totapuri/IMG_6261.JPG')  # this is a PIL image\n",
    "x = img_to_array(img)  # this is a Numpy array with shape (3, 150, 150)\n",
    "x = x.reshape((1,) + x.shape)  # this is a Numpy array with shape (1, 3, 150, 150)\n",
    "\n",
    "# the .flow() command below generates batches of randomly transformed images\n",
    "# and saves the results to the `preview/` directory\n",
    "i = 0\n",
    "for batch in datagen.flow(x, batch_size=1,\n",
    "                          save_to_dir='DataAug', save_prefix='Totapuri', save_format='jpeg'):\n",
    "    i += 1\n",
    "    if i > 20:\n",
    "        break  # otherwise the generator would loop indefinitely"
   ]
  },
  {
   "cell_type": "code",
   "execution_count": 9,
   "metadata": {},
   "outputs": [],
   "source": [
    "cnn1 = Sequential()\n",
    "cnn1.add(Conv2D(32, kernel_size=(3, 3), activation='relu', input_shape=(224,224,3)))\n",
    "cnn1.add(MaxPooling2D(pool_size=(2, 2)))\n",
    "cnn1.add(Dropout(0.2))\n",
    "cnn1.add(Flatten())\n",
    "cnn1.add(Dense(128, activation='relu'))\n",
    "cnn1.add(Dense(4, activation='softmax'))"
   ]
  },
  {
   "cell_type": "code",
   "execution_count": 10,
   "metadata": {},
   "outputs": [
    {
     "name": "stdout",
     "output_type": "stream",
     "text": [
      "Model: \"sequential_2\"\n",
      "_________________________________________________________________\n",
      "Layer (type)                 Output Shape              Param #   \n",
      "=================================================================\n",
      "conv2d_3 (Conv2D)            (None, 222, 222, 32)      896       \n",
      "_________________________________________________________________\n",
      "max_pooling2d_2 (MaxPooling2 (None, 111, 111, 32)      0         \n",
      "_________________________________________________________________\n",
      "dropout_2 (Dropout)          (None, 111, 111, 32)      0         \n",
      "_________________________________________________________________\n",
      "flatten_2 (Flatten)          (None, 394272)            0         \n",
      "_________________________________________________________________\n",
      "dense_3 (Dense)              (None, 128)               50466944  \n",
      "_________________________________________________________________\n",
      "dense_4 (Dense)              (None, 4)                 516       \n",
      "=================================================================\n",
      "Total params: 50,468,356\n",
      "Trainable params: 50,468,356\n",
      "Non-trainable params: 0\n",
      "_________________________________________________________________\n"
     ]
    }
   ],
   "source": [
    "cnn1.summary()"
   ]
  },
  {
   "cell_type": "code",
   "execution_count": 11,
   "metadata": {},
   "outputs": [],
   "source": [
    "#Using Learning rate schedule to modulate the changes of learning rate over time\n",
    "#Constant learning rate is default, Momentum and Decay both are set to zero\n",
    "#Here Using momentum to get the faster convergence, Between 0.5 and 0.9 is acceptable, Will experiment with different momentum\n",
    "#Decay rate is basically learning_Rate / epochs\n",
    "#Step decay schedule drops the learning rate by a factor every few epochs.\n",
    "\n",
    "\n",
    "# Compile the model. I found that RMSprop with the default learning\n",
    "# weight worked fine.\n",
    "\n",
    "\n",
    "cnn1.compile(loss=keras.losses.categorical_crossentropy,\n",
    "              optimizer=keras.optimizers.Adam(),\n",
    "              metrics=['accuracy'])"
   ]
  },
  {
   "cell_type": "code",
   "execution_count": 12,
   "metadata": {},
   "outputs": [
    {
     "name": "stdout",
     "output_type": "stream",
     "text": [
      "Epoch 1/13\n",
      "12/12 [==============================] - 115s 10s/step - loss: 33.7397 - accuracy: 0.2267 - val_loss: 4.7184 - val_accuracy: 0.2663\n",
      "Epoch 2/13\n",
      "12/12 [==============================] - 101s 8s/step - loss: 2.5467 - accuracy: 0.3132 - val_loss: 1.3014 - val_accuracy: 0.3011\n",
      "Epoch 3/13\n",
      "12/12 [==============================] - 85s 7s/step - loss: 1.2564 - accuracy: 0.4181 - val_loss: 1.2961 - val_accuracy: 0.3424\n",
      "Epoch 4/13\n",
      "12/12 [==============================] - 99s 8s/step - loss: 1.1825 - accuracy: 0.4456 - val_loss: 1.2592 - val_accuracy: 0.3665\n",
      "Epoch 5/13\n",
      "12/12 [==============================] - 84s 7s/step - loss: 1.1239 - accuracy: 0.5046 - val_loss: 1.1644 - val_accuracy: 0.4429\n",
      "Epoch 6/13\n",
      "12/12 [==============================] - 115s 10s/step - loss: 1.0601 - accuracy: 0.5164 - val_loss: 1.1301 - val_accuracy: 0.4972\n",
      "Epoch 7/13\n",
      "12/12 [==============================] - 98s 8s/step - loss: 0.9901 - accuracy: 0.5478 - val_loss: 1.2184 - val_accuracy: 0.3967\n",
      "Epoch 8/13\n",
      "12/12 [==============================] - 133s 11s/step - loss: 0.9400 - accuracy: 0.5662 - val_loss: 1.0147 - val_accuracy: 0.5597\n",
      "Epoch 9/13\n",
      "12/12 [==============================] - 93s 8s/step - loss: 0.9004 - accuracy: 0.6212 - val_loss: 1.0688 - val_accuracy: 0.5435\n",
      "Epoch 10/13\n",
      "12/12 [==============================] - 119s 10s/step - loss: 0.8702 - accuracy: 0.6173 - val_loss: 1.0659 - val_accuracy: 0.5795\n",
      "Epoch 11/13\n",
      "12/12 [==============================] - 104s 9s/step - loss: 0.8098 - accuracy: 0.6789 - val_loss: 1.0621 - val_accuracy: 0.5788\n"
     ]
    }
   ],
   "source": [
    "CNN_Model=cnn1.fit_generator(\n",
    "    training_set,\n",
    "    steps_per_epoch=12,\n",
    "    epochs=13,\n",
    "    validation_data=Validation_set,\n",
    "    validation_steps=3,\n",
    "    callbacks=[\n",
    "        EarlyStopping(patience=3, restore_best_weights=True),\n",
    "        ReduceLROnPlateau(patience=2)\n",
    "    ]\n",
    ")"
   ]
  },
  {
   "cell_type": "markdown",
   "metadata": {},
   "source": [
    "# Transfer Learning with VGG16"
   ]
  },
  {
   "cell_type": "code",
   "execution_count": 6,
   "metadata": {},
   "outputs": [],
   "source": [
    "prior = keras.applications.VGG16(\n",
    "    include_top=False, \n",
    "    weights='imagenet',\n",
    "    input_shape=(224, 224, 3)\n",
    ")\n",
    "model = Sequential()\n",
    "model.add(prior)\n",
    "model.add(Dropout(0.25, name='FirstDropout_Regularization'))\n",
    "model.add(Flatten())\n",
    "model.add(Dense(256, activation='relu', name='Dense_Intermediate'))\n",
    "model.add(Dropout(0.25, name='Dropout_Regularization'))\n",
    "model.add(Dense(4, activation='softmax', name='Output'))"
   ]
  },
  {
   "cell_type": "code",
   "execution_count": 7,
   "metadata": {},
   "outputs": [],
   "source": [
    "# Freeze the VGG16 model, e.g. do not train any of its weights.\n",
    "# We will just use it as-is.\n",
    "for cnn_block_layer in model.layers[0].layers:\n",
    "    cnn_block_layer.trainable = False\n",
    "model.layers[0].trainable = False"
   ]
  },
  {
   "cell_type": "code",
   "execution_count": 8,
   "metadata": {},
   "outputs": [],
   "source": [
    "# Compile the model. I found that RMSprop with the default learning\n",
    "# weight worked fine.\n",
    "model.compile(optimizer=RMSprop(), loss='categorical_crossentropy', metrics=['accuracy'])"
   ]
  },
  {
   "cell_type": "code",
   "execution_count": 10,
   "metadata": {},
   "outputs": [
    {
     "name": "stdout",
     "output_type": "stream",
     "text": [
      "Epoch 1/10\n",
      "5/5 [==============================] - 189s 38s/step - loss: 3.0380 - accuracy: 0.4857 - val_loss: 1.4888 - val_accuracy: 0.6458\n",
      "Epoch 2/10\n",
      "5/5 [==============================] - 236s 47s/step - loss: 2.3154 - accuracy: 0.5219 - val_loss: 2.3282 - val_accuracy: 0.3333\n",
      "Epoch 3/10\n",
      "5/5 [==============================] - 211s 42s/step - loss: 1.4778 - accuracy: 0.6031 - val_loss: 0.7764 - val_accuracy: 0.5917\n",
      "Epoch 4/10\n",
      "5/5 [==============================] - 166s 33s/step - loss: 1.5106 - accuracy: 0.5968 - val_loss: 0.8241 - val_accuracy: 0.5708\n",
      "Epoch 5/10\n",
      "5/5 [==============================] - 186s 37s/step - loss: 0.9468 - accuracy: 0.6159 - val_loss: 1.6711 - val_accuracy: 0.5833\n",
      "Epoch 6/10\n",
      "5/5 [==============================] - 177s 35s/step - loss: 1.2913 - accuracy: 0.6062 - val_loss: 0.6780 - val_accuracy: 0.6750\n",
      "Epoch 7/10\n",
      "5/5 [==============================] - 166s 33s/step - loss: 0.7584 - accuracy: 0.6781 - val_loss: 0.6376 - val_accuracy: 0.7333\n",
      "Epoch 8/10\n",
      "5/5 [==============================] - 199s 40s/step - loss: 0.5868 - accuracy: 0.7375 - val_loss: 0.6618 - val_accuracy: 0.7458\n",
      "Epoch 9/10\n",
      "5/5 [==============================] - 171s 34s/step - loss: 0.5296 - accuracy: 0.8062 - val_loss: 0.6695 - val_accuracy: 0.7833\n",
      "Epoch 10/10\n",
      "5/5 [==============================] - 196s 39s/step - loss: 0.5161 - accuracy: 0.7873 - val_loss: 0.6340 - val_accuracy: 0.7833\n"
     ]
    }
   ],
   "source": [
    "Transfer_Learning=model.fit_generator(\n",
    "    training_set,\n",
    "    steps_per_epoch=5,\n",
    "    epochs=10,\n",
    "    validation_data=Validation_set,\n",
    "    validation_steps=2,\n",
    "    callbacks=[\n",
    "        EarlyStopping(patience=3, restore_best_weights=True),\n",
    "        ReduceLROnPlateau(patience=2)\n",
    "    ]\n",
    ")"
   ]
  },
  {
   "cell_type": "code",
   "execution_count": 11,
   "metadata": {},
   "outputs": [
    {
     "data": {
      "image/png": "[encoded data removed]",
      "text/plain": [
       "<Figure size 432x288 with 1 Axes>"
      ]
     },
     "metadata": {
      "needs_background": "light"
     },
     "output_type": "display_data"
    },
    {
     "data": {
      "image/png": "[encoded data removed]",
      "text/plain": [
       "<Figure size 432x288 with 1 Axes>"
      ]
     },
     "metadata": {
      "needs_background": "light"
     },
     "output_type": "display_data"
    }
   ],
   "source": [
    "#  \"Accuracy\"\n",
    "plt.plot(Transfer_Learning.history['accuracy'])\n",
    "plt.plot(Transfer_Learning.history['val_accuracy'])\n",
    "plt.title('model accuracy')\n",
    "plt.ylabel('accuracy')\n",
    "plt.xlabel('epoch')\n",
    "plt.legend(['train', 'validation'], loc='upper left')\n",
    "plt.show()\n",
    "# \"Loss\"\n",
    "plt.plot(Transfer_Learning.history['loss'])\n",
    "plt.plot(Transfer_Learning.history['val_loss'])\n",
    "plt.title('model loss')\n",
    "plt.ylabel('loss')\n",
    "plt.xlabel('epoch')\n",
    "plt.legend(['train', 'validation'], loc='upper left')\n",
    "plt.show()\n"
   ]
  },
  {
   "cell_type": "code",
   "execution_count": 40,
   "metadata": {},
   "outputs": [],
   "source": [
    "import tensorflow as tf\n",
    "\n",
    "from keras.models import load_model\n",
    "\n",
    "model.save('Mango9.03.h5')"
   ]
  },
  {
   "cell_type": "code",
   "execution_count": 21,
   "metadata": {},
   "outputs": [],
   "source": [
    "#predictions = model.predict_generator(generator= test_set, steps=1, verbose=0)"
   ]
  }
 ],
 "metadata": {
  "kernelspec": {
   "display_name": "Python 3.6 (tensorflow)",
   "language": "python",
   "name": "tensorflow"
  },
  "language_info": {
   "codemirror_mode": {
    "name": "ipython",
    "version": 3
   },
   "file_extension": ".py",
   "mimetype": "text/x-python",
   "name": "python",
   "nbconvert_exporter": "python",
   "pygments_lexer": "ipython3",
   "version": "3.7.4"
  }
 },
 "nbformat": 4,
 "nbformat_minor": 4
}
