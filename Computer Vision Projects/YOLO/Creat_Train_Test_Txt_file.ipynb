{
 "cells": [
  {
   "cell_type": "code",
   "execution_count": 4,
   "metadata": {},
   "outputs": [],
   "source": [
    "import os"
   ]
  },
  {
   "cell_type": "code",
   "execution_count": 2,
   "metadata": {},
   "outputs": [],
   "source": [
    "Full_Images_Path = '/home/kris/Downloads/Tensorflow_files/YOLO-3-OpenCV/Video_Frames/Labelled Frames'"
   ]
  },
  {
   "cell_type": "code",
   "execution_count": 6,
   "metadata": {},
   "outputs": [],
   "source": [
    "os.chdir(Full_Images_Path)"
   ]
  },
  {
   "cell_type": "code",
   "execution_count": 11,
   "metadata": {},
   "outputs": [],
   "source": [
    "\"\"\"\n",
    "\n",
    "WIll make a list where I will write all found full paths to the Images\n",
    "\n",
    "\"\"\"\n",
    "\n",
    "\n",
    "p = []\n",
    "\n",
    "\n",
    "\n",
    "for current_dir, dirs, files in os.walk('.'):\n",
    "    \"\"\"\n",
    "    Going through all files\n",
    "    \"\"\"\n",
    "    for f in files:\n",
    "        \n",
    "        \"\"\"\n",
    "        Checking if the file name ends with jpeg\n",
    "        \n",
    "        \"\"\"\n",
    "        if f.endswith('.jpeg'):\n",
    "            \"\"\"\n",
    "            Preparing path to save into train.txt file\n",
    "            Pay attention!\n",
    "            If you're using Windows, it might need to change\n",
    "            this: + '/' +\n",
    "            to this: + '\\' +\n",
    "            or to this: + '\\\\' +\"\"\"\n",
    "            path_to_save_into_txt_files = Full_Images_Path + '/' + f\n",
    "\n",
    "            \"\"\"\n",
    "            Appending the line into the list\n",
    "            We use here '\\n' to move to the next line\n",
    "            when writing lines into txt files\n",
    "            \"\"\"\n",
    "            p.append(path_to_save_into_txt_files + '\\n')\n"
   ]
  },
  {
   "cell_type": "code",
   "execution_count": 12,
   "metadata": {},
   "outputs": [],
   "source": [
    "\"\"\"\n",
    "\n",
    "Slicing first 15% of elements from the list\n",
    "to write into the test.txt file\n",
    "\n",
    "\"\"\"\n",
    "\n",
    "p_test = p[:int(len(p) * 0.15)]\n",
    "\n",
    "\"\"\" \n",
    "\n",
    "Deleting first 15% of elements from the list\n",
    "\n",
    "\"\"\"\n",
    "p = p[int(len(p) * 0.15):]\n",
    "\n"
   ]
  },
  {
   "cell_type": "code",
   "execution_count": 18,
   "metadata": {},
   "outputs": [],
   "source": [
    "\"\"\"\n",
    "Creating Train.txt and Test.txt file\n",
    "Creating file train.txt and writing 85% of lines in it\n",
    "\"\"\"\n",
    "\n",
    "with open('train.txt', 'w') as train_txt:\n",
    "    \n",
    "    \"\"\" \n",
    "    Going through all elements of the list\n",
    "    \"\"\" \n",
    "    for e in p:\n",
    "        \"\"\" \n",
    "        Writing current path at the end of the file\n",
    "        \"\"\"\n",
    "        train_txt.write(e)\n",
    "\n",
    "\"\"\" \n",
    "Creating file test.txt and writing 15% of lines in it\n",
    "\"\"\"\n",
    "\n",
    "with open('test.txt', 'w') as test_txt:\n",
    "    \"\"\" \n",
    "    Going through all elements of the list\n",
    "    \"\"\" \n",
    "    for e in p_test:\n",
    "        \"\"\"\n",
    "        Writing current path at the end of the file\n",
    "        \"\"\"\n",
    "        test_txt.write(e)"
   ]
  },
  {
   "cell_type": "code",
   "execution_count": null,
   "metadata": {},
   "outputs": [],
   "source": []
  }
 ],
 "metadata": {
  "kernelspec": {
   "display_name": "Python 3",
   "language": "python",
   "name": "python3"
  },
  "language_info": {
   "codemirror_mode": {
    "name": "ipython",
    "version": 3
   },
   "file_extension": ".py",
   "mimetype": "text/x-python",
   "name": "python",
   "nbconvert_exporter": "python",
   "pygments_lexer": "ipython3",
   "version": "3.7.3"
  }
 },
 "nbformat": 4,
 "nbformat_minor": 2
}
