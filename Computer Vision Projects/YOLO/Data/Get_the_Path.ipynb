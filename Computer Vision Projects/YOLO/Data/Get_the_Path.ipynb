{
 "cells": [
  {
   "cell_type": "code",
   "execution_count": 2,
   "metadata": {},
   "outputs": [
    {
     "name": "stdout",
     "output_type": "stream",
     "text": [
      "/home/kris/Downloads/Tensorflow_files/YOLO-3-OpenCV/Video_Frames/Labelled Frames\n"
     ]
    }
   ],
   "source": [
    "\"\"\"\n",
    "It is just to get the full path of current working directory :\n",
    "\n",
    "Note : Current directory or I am fetching the path of directory which has classes.txt, Image.txt and Image.jpeg\n",
    "\n",
    "It is very simple, Either you can run this or you can copy the path from your computer like we do normally.\n",
    "\n",
    "\"\"\"\n",
    "\n",
    "import os\n",
    "current_dir = os.path.dirname(os.path.abspath(\"__file__\"))\n",
    "\n",
    "print(current_dir)"
   ]
  },
  {
   "cell_type": "code",
   "execution_count": null,
   "metadata": {},
   "outputs": [],
   "source": []
  }
 ],
 "metadata": {
  "kernelspec": {
   "display_name": "Python 3",
   "language": "python",
   "name": "python3"
  },
  "language_info": {
   "codemirror_mode": {
    "name": "ipython",
    "version": 3
   },
   "file_extension": ".py",
   "mimetype": "text/x-python",
   "name": "python",
   "nbconvert_exporter": "python",
   "pygments_lexer": "ipython3",
   "version": "3.7.3"
  }
 },
 "nbformat": 4,
 "nbformat_minor": 2
}
