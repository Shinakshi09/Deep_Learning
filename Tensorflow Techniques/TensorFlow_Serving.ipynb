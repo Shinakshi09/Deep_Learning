{
  "nbformat": 4,
  "nbformat_minor": 0,
  "metadata": {
    "colab": {
      "name": "TensorFlow Serving.ipynb",
      "provenance": [],
      "collapsed_sections": []
    },
    "kernelspec": {
      "name": "python3",
      "display_name": "Python 3"
    },
    "accelerator": "GPU"
  },
  "cells": [
    {
      "cell_type": "code",
      "metadata": {
        "id": "k3l_mbnUyLPk",
        "colab_type": "code",
        "colab": {
          "base_uri": "https://localhost:8080/",
          "height": 34
        },
        "outputId": "330da6ee-dc2a-40e9-83ad-069234e5f350"
      },
      "source": [
        "\"\"\"  Let's ask these questions\n",
        "\n",
        "Let's say you have deployed a model in production and after sometime, It start performing worst, Your company found one more variables for the\n",
        "\n",
        "model to get added on for the same problem statement, You want to run many models at the same time etc.\n",
        "\n",
        "Question 1. How will you update your model without a shutting down your process?\n",
        "\n",
        "Question 2. How can you run many models at the same time for different different problem statements?\n",
        "\n",
        "Question 3. How will you handle this issue of current model not performing well and You are asked to roll back to previous version?\n",
        "\n",
        "Only tool which can answer to all these above questions is Tensorflow Serving.\n",
        "\n",
        "\n",
        "What is Tensorflow Serving :\n",
        "\n",
        "Role of tensorflow serving on the server. This server side is split into two different parts\n",
        "\n",
        "1. Tensorflow Serving\n",
        "2. File system\n",
        "\n",
        "In the Tensorflow serving, We have three models saved. Model could be the same but has three different versions of it or totally different models.\n",
        "Let's say we have model which we want to serve based on our GEO Location, \n",
        "For ppl in London Model version 1 and for people in Mumbai Model version 2 and for Berlin Model version 3. \n",
        "Or we want to serve model 1 on this set of users and rest should be as it . A Model is called servalable because we are serving the model. \n",
        "\n",
        "Version manager :\n",
        "\n",
        "Either we can have several models for several tasks or we can just have many models for one task. \n",
        "We have to decide it. In case we have many models and want to make sure newest version of model is to be tested. \n",
        "We can specify in version manager and it will help us to handle the current version of model\n",
        "\n",
        "Model Loader :\n",
        "\n",
        "It takes the msg from version manager, what model to load and provide back to version manager and \n",
        "model loader will reach to file system for version of model and load it\"\"\"\n",
        "\n",
        "print(\".\")"
      ],
      "execution_count": null,
      "outputs": [
        {
          "output_type": "stream",
          "text": [
            ".\n"
          ],
          "name": "stdout"
        }
      ]
    },
    {
      "cell_type": "markdown",
      "metadata": {
        "id": "yCrzPgLp7W1h",
        "colab_type": "text"
      },
      "source": [
        "## Step 1: Install dependencies and setting up GPU environment"
      ]
    },
    {
      "cell_type": "code",
      "metadata": {
        "id": "w0KGbZuk7T7F",
        "colab_type": "code",
        "colab": {
          "base_uri": "https://localhost:8080/",
          "height": 111
        },
        "outputId": "e62f5fa9-4736-46bf-f5e8-d712c1441d95"
      },
      "source": [
        "!echo \"deb [arch=amd64] http://storage.googleapis.com/tensorflow-serving-apt stable tensorflow-model-server tensorflow-model-server-universal\" | sudo tee /etc/apt/sources.list.d/tensorflow-serving.list && curl https://storage.googleapis.com/tensorflow-serving-apt/tensorflow-serving.release.pub.gpg | sudo apt-key add -"
      ],
      "execution_count": null,
      "outputs": [
        {
          "output_type": "stream",
          "text": [
            "deb [arch=amd64] http://storage.googleapis.com/tensorflow-serving-apt stable tensorflow-model-server tensorflow-model-server-universal\n",
            "  % Total    % Received % Xferd  Average Speed   Time    Time     Time  Current\n",
            "                                 Dload  Upload   Total   Spent    Left  Speed\n",
            "\r  0     0    0     0    0     0      0      0 --:--:-- --:--:-- --:--:--     0\r100  2343  100  2343    0     0   127k      0 --:--:-- --:--:-- --:--:--  127k\n",
            "OK\n"
          ],
          "name": "stdout"
        }
      ]
    },
    {
      "cell_type": "code",
      "metadata": {
        "id": "-AoEpKnD94Lj",
        "colab_type": "code",
        "colab": {
          "base_uri": "https://localhost:8080/",
          "height": 579
        },
        "outputId": "f93c76bc-ec68-48f7-aa30-995af2494eba"
      },
      "source": [
        "!apt-get update & apt-get install tensorflow-model-server"
      ],
      "execution_count": null,
      "outputs": [
        {
          "output_type": "stream",
          "text": [
            "\rReading package lists... 0%\r\r0% [Working]\rReading package lists... 0%\r\r            \rHit:1 http://storage.googleapis.com/tensorflow-serving-apt stable InRelease\n",
            "\r0% [Connecting to archive.ubuntu.com (91.189.88.161)] [Connecting to security.u\r0% [1 InRelease gpgv 3,012 B] [Connecting to archive.ubuntu.com (91.189.88.161)\rReading package lists... 0%\r\rReading package lists... 7%\r\rReading package lists... 7%\r\rReading package lists... 8%\r\rReading package lists... 8%\r\r                                                                               \rHit:2 https://cloud.r-project.org/bin/linux/ubuntu bionic-cran35/ InRelease\n",
            "\r0% [1 InRelease gpgv 3,012 B] [Connecting to archive.ubuntu.com (91.189.88.161)\r                                                                               \rIgn:3 https://developer.download.nvidia.com/compute/cuda/repos/ubuntu1804/x86_64  InRelease\n",
            "\r0% [1 InRelease gpgv 3,012 B] [Connecting to archive.ubuntu.com (91.189.88.161)\r0% [Connecting to archive.ubuntu.com (91.189.88.161)] [Connecting to security.u\r0% [2 InRelease gpgv 3,609 B] [Connecting to archive.ubuntu.com (91.189.88.161)\r                                                                               \rIgn:4 https://developer.download.nvidia.com/compute/machine-learning/repos/ubuntu1804/x86_64  InRelease\n",
            "\r0% [2 InRelease gpgv 3,609 B] [Waiting for headers] [Waiting for headers] [Wait\r                                                                               \rHit:5 https://developer.download.nvidia.com/compute/cuda/repos/ubuntu1804/x86_64  Release\n",
            "\r0% [2 InRelease gpgv 3,609 B] [Waiting for headers] [Waiting for headers] [Wait\r                                                                               \rHit:6 https://developer.download.nvidia.com/compute/machine-learning/repos/ubuntu1804/x86_64  Release\n",
            "\r0% [2 InRelease gpgv 3,609 B] [Waiting for headers] [Waiting for headers] [Wait\r                                                                               \r0% [Waiting for headers] [Waiting for headers] [Waiting for headers]\r0% [Release.gpg gpgv 564 B] [Waiting for headers] [Waiting for headers] [Waitin\r                                                                               \rHit:7 http://archive.ubuntu.com/ubuntu bionic InRelease\n",
            "\r0% [Release.gpg gpgv 564 B] [Waiting for headers] [Waiting for headers] [Waitin\r                                                                               \rGet:8 http://security.ubuntu.com/ubuntu bionic-security InRelease [88.7 kB]\n",
            "\r0% [Release.gpg gpgv 564 B] [Waiting for headers] [8 InRelease 2,586 B/88.7 kB \r                                                                               \rHit:9 http://ppa.launchpad.net/graphics-drivers/ppa/ubuntu bionic InRelease\n",
            "\r0% [Release.gpg gpgv 564 B] [Waiting for headers] [8 InRelease 2,586 B/88.7 kB \r0% [Waiting for headers] [8 InRelease 11.3 kB/88.7 kB 13%] [Connecting to ppa.l\r0% [Release.gpg gpgv 564 B] [Waiting for headers] [8 InRelease 11.3 kB/88.7 kB \rReading package lists... 62%\r\r0% [Waiting for headers] [8 InRelease 14.2 kB/88.7 kB 16%] [Connecting to ppa.l\r0% [7 InRelease gpgv 242 kB] [Waiting for headers] [8 InRelease 14.2 kB/88.7 kB\rReading package lists... 72%\r\rReading package lists... 72%\r\rReading package lists... 73%\r\rReading package lists... 73%\r\r                                                                               \rGet:12 http://archive.ubuntu.com/ubuntu bionic-updates InRelease [88.7 kB]\n",
            "\r0% [7 InRelease gpgv 242 kB] [12 InRelease 1,153 B/88.7 kB 1%] [8 InRelease 14.\rReading package lists... 79%\r\rReading package lists... 79%\r\rReading package lists... 79%\r\rReading package lists... 79%\r\rReading package lists... 88%\r\rReading package lists... 88%\r\rReading package lists... 88%\r\rReading package lists... 88%\r\rReading package lists... 88%\r\rReading package lists... 88%\r\rReading package lists... 88%\r\rReading package lists... 88%\r\rReading package lists... 91%\r\rReading package lists... 91%\r\rReading package lists... 91%\r\rReading package lists... 91%\r\rReading package lists... 93%\r\rReading package lists... 93%\r\rReading package lists... 93%\r\rReading package lists... 93%\r\rReading package lists... 94%\r\rReading package lists... 94%\r\rReading package lists... 94%\r\rReading package lists... 94%\r\r0% [12 InRelease 15.6 kB/88.7 kB 18%] [8 InRelease 41.7 kB/88.7 kB 47%] [Waitin\r0% [9 InRelease gpgv 21.3 kB] [12 InRelease 15.6 kB/88.7 kB 18%] [8 InRelease 4\rReading package lists... 94%\r\rReading package lists... 94%\r\rReading package lists... 98%\r\rReading package lists... 98%\r\rReading package lists... 98%\r\rReading package lists... 98%\r\rReading package lists... 98%\r\rReading package lists... 98%\r\rReading package lists... 98%\r\rReading package lists... 98%\r\rReading package lists... Done\r\n",
            "\r                                                                               \rHit:13 http://ppa.launchpad.net/marutter/c2d4u3.5/ubuntu bionic InRelease\n",
            "\r0% [9 InRelease gpgv 21.3 kB] [12 InRelease 15.6 kB/88.7 kB 18%] [8 InRelease 4\rBuilding dependency tree... 0%\r\rBuilding dependency tree... 0%\r\rBuilding dependency tree... 50%\r\rBuilding dependency tree... 50%\r\r                                                                               \r0% [12 InRelease 30.1 kB/88.7 kB 34%] [8 InRelease 60.5 kB/88.7 kB 68%]\r0% [13 InRelease gpgv 15.4 kB] [12 InRelease 30.1 kB/88.7 kB 34%] [8 InRelease \r                                                                               \r0% [13 InRelease gpgv 15.4 kB] [12 InRelease 47.5 kB/88.7 kB 54%]\rBuilding dependency tree... 97%\r\rBuilding dependency tree       \r\n",
            "Reading state information... Done\n",
            "0% [8 InRelease gpgv 88.7 kB]The following package was automatically installed and is no longer required:\n",
            "  libnvidia-common-410\n",
            "Use 'apt autoremove' to remove it.\n",
            "0% [12 InRelease gpgv 88.7 kB] [Waiting for headers]The following NEW packages will be installed:\n",
            "  tensorflow-model-server\n",
            "0 upgraded, 1 newly installed, 0 to remove and 12 not upgraded.\n",
            "Need to get 136 MB of archives.\n",
            "After this operation, 0 B of additional disk space will be used.\n",
            "Get:14 http://archive.ubuntu.com/ubuntu bionic-backports InRelease [74.6 kB]\n",
            "Get:1 http://storage.googleapis.com/tensorflow-serving-apt stable/tensorflow-model-server amd64 tensorflow-model-server all 1.13.0 [136 MB]\n",
            "Fetched 252 kB in 2s (109 kB/s)\n",
            "Reading package lists... Done\n",
            "Fetched 136 MB in 4s (37.8 MB/s)\n",
            "E: Failed to fetch http://storage.googleapis.com/tensorflow-serving-apt/pool/tensorflow-model-server/t/tensorflow-model-server/tensorflow-model-server_1.13.0_all.deb  rename failed, No such file or directory (/var/cache/apt/archives/partial/tensorflow-model-server_1.13.0_all.deb -> /var/cache/apt/archives/tensorflow-model-server_1.13.0_all.deb).\n",
            "E: Unable to fetch some archives, maybe run apt-get update or try with --fix-missing?\n"
          ],
          "name": "stdout"
        }
      ]
    },
    {
      "cell_type": "code",
      "metadata": {
        "id": "a1cAehxr-M9p",
        "colab_type": "code",
        "colab": {
          "base_uri": "https://localhost:8080/",
          "height": 392
        },
        "outputId": "69ea043f-a279-4a28-994e-275807ad76a7"
      },
      "source": [
        "!pip install tensorflow-gpu==1.13.1"
      ],
      "execution_count": null,
      "outputs": [
        {
          "output_type": "stream",
          "text": [
            "Requirement already satisfied: tensorflow-gpu==1.13.1 in /usr/local/lib/python3.6/dist-packages (1.13.1)\n",
            "Requirement already satisfied: tensorflow-estimator<1.14.0rc0,>=1.13.0 in /usr/local/lib/python3.6/dist-packages (from tensorflow-gpu==1.13.1) (1.13.0)\n",
            "Requirement already satisfied: termcolor>=1.1.0 in /usr/local/lib/python3.6/dist-packages (from tensorflow-gpu==1.13.1) (1.1.0)\n",
            "Requirement already satisfied: grpcio>=1.8.6 in /usr/local/lib/python3.6/dist-packages (from tensorflow-gpu==1.13.1) (1.15.0)\n",
            "Requirement already satisfied: absl-py>=0.1.6 in /usr/local/lib/python3.6/dist-packages (from tensorflow-gpu==1.13.1) (0.7.1)\n",
            "Requirement already satisfied: wheel>=0.26 in /usr/local/lib/python3.6/dist-packages (from tensorflow-gpu==1.13.1) (0.33.4)\n",
            "Requirement already satisfied: gast>=0.2.0 in /usr/local/lib/python3.6/dist-packages (from tensorflow-gpu==1.13.1) (0.2.2)\n",
            "Requirement already satisfied: keras-preprocessing>=1.0.5 in /usr/local/lib/python3.6/dist-packages (from tensorflow-gpu==1.13.1) (1.0.9)\n",
            "Requirement already satisfied: keras-applications>=1.0.6 in /usr/local/lib/python3.6/dist-packages (from tensorflow-gpu==1.13.1) (1.0.7)\n",
            "Requirement already satisfied: astor>=0.6.0 in /usr/local/lib/python3.6/dist-packages (from tensorflow-gpu==1.13.1) (0.7.1)\n",
            "Requirement already satisfied: numpy>=1.13.3 in /usr/local/lib/python3.6/dist-packages (from tensorflow-gpu==1.13.1) (1.16.3)\n",
            "Requirement already satisfied: tensorboard<1.14.0,>=1.13.0 in /usr/local/lib/python3.6/dist-packages (from tensorflow-gpu==1.13.1) (1.13.1)\n",
            "Requirement already satisfied: protobuf>=3.6.1 in /usr/local/lib/python3.6/dist-packages (from tensorflow-gpu==1.13.1) (3.7.1)\n",
            "Requirement already satisfied: six>=1.10.0 in /usr/local/lib/python3.6/dist-packages (from tensorflow-gpu==1.13.1) (1.12.0)\n",
            "Requirement already satisfied: mock>=2.0.0 in /usr/local/lib/python3.6/dist-packages (from tensorflow-estimator<1.14.0rc0,>=1.13.0->tensorflow-gpu==1.13.1) (3.0.5)\n",
            "Requirement already satisfied: h5py in /usr/local/lib/python3.6/dist-packages (from keras-applications>=1.0.6->tensorflow-gpu==1.13.1) (2.8.0)\n",
            "Requirement already satisfied: werkzeug>=0.11.15 in /usr/local/lib/python3.6/dist-packages (from tensorboard<1.14.0,>=1.13.0->tensorflow-gpu==1.13.1) (0.15.3)\n",
            "Requirement already satisfied: markdown>=2.6.8 in /usr/local/lib/python3.6/dist-packages (from tensorboard<1.14.0,>=1.13.0->tensorflow-gpu==1.13.1) (3.1)\n",
            "Requirement already satisfied: setuptools in /usr/local/lib/python3.6/dist-packages (from protobuf>=3.6.1->tensorflow-gpu==1.13.1) (41.0.1)\n"
          ],
          "name": "stdout"
        }
      ]
    },
    {
      "cell_type": "code",
      "metadata": {
        "id": "zfxOPCl7-Wp7",
        "colab_type": "code",
        "colab": {
          "base_uri": "https://localhost:8080/",
          "height": 111
        },
        "outputId": "ba1fa66f-154a-42d2-a1ce-0ff9e50d3384"
      },
      "source": [
        "!pip install requests"
      ],
      "execution_count": null,
      "outputs": [
        {
          "output_type": "stream",
          "text": [
            "Requirement already satisfied: requests in /usr/local/lib/python3.6/dist-packages (2.21.0)\n",
            "Requirement already satisfied: certifi>=2017.4.17 in /usr/local/lib/python3.6/dist-packages (from requests) (2019.3.9)\n",
            "Requirement already satisfied: urllib3<1.25,>=1.21.1 in /usr/local/lib/python3.6/dist-packages (from requests) (1.24.3)\n",
            "Requirement already satisfied: idna<2.9,>=2.5 in /usr/local/lib/python3.6/dist-packages (from requests) (2.8)\n",
            "Requirement already satisfied: chardet<3.1.0,>=3.0.2 in /usr/local/lib/python3.6/dist-packages (from requests) (3.0.4)\n"
          ],
          "name": "stdout"
        }
      ]
    },
    {
      "cell_type": "markdown",
      "metadata": {
        "id": "qsgbM_R2-ud_",
        "colab_type": "text"
      },
      "source": [
        "## Step 2: Import project dependencies"
      ]
    },
    {
      "cell_type": "code",
      "metadata": {
        "id": "Y3taHerg-nkS",
        "colab_type": "code",
        "colab": {
          "base_uri": "https://localhost:8080/",
          "height": 36
        },
        "outputId": "da3d495e-eda6-4904-8563-13c00a1b3e7d"
      },
      "source": [
        "\"\"\" Importing the dependencies \"\"\"\n",
        "\n",
        "import os\n",
        "import json\n",
        "import random\n",
        "import requests\n",
        "import subprocess\n",
        "import numpy as np\n",
        "import tensorflow as tf\n",
        "import matplotlib.pyplot as plt\n",
        "\n",
        "from tensorflow.keras.datasets import cifar10\n",
        "\n",
        "%matplotlib inline\n",
        "tf.__version__"
      ],
      "execution_count": null,
      "outputs": [
        {
          "output_type": "execute_result",
          "data": {
            "text/plain": [
              "'1.13.1'"
            ]
          },
          "metadata": {
            "tags": []
          },
          "execution_count": 1
        }
      ]
    },
    {
      "cell_type": "markdown",
      "metadata": {
        "id": "90mWV1g6_TSt",
        "colab_type": "text"
      },
      "source": [
        "## Step 3: Dataset preprocessing"
      ]
    },
    {
      "cell_type": "markdown",
      "metadata": {
        "id": "dJsURBeA_XEe",
        "colab_type": "text"
      },
      "source": [
        "### Loading the dataset"
      ]
    },
    {
      "cell_type": "code",
      "metadata": {
        "id": "FVgkziGT_RQZ",
        "colab_type": "code",
        "colab": {}
      },
      "source": [
        "(X_train, y_train), (X_test, y_test) = cifar10.load_data()"
      ],
      "execution_count": null,
      "outputs": []
    },
    {
      "cell_type": "code",
      "metadata": {
        "id": "hqOyARxY_kC2",
        "colab_type": "code",
        "colab": {}
      },
      "source": [
        "class_names = ['airplane', 'automobile', 'bird', 'cat', 'deer', 'dog', 'frog', 'horse', 'ship', 'truck']"
      ],
      "execution_count": null,
      "outputs": []
    },
    {
      "cell_type": "markdown",
      "metadata": {
        "id": "B_adA5GI_ZGK",
        "colab_type": "text"
      },
      "source": [
        "### Image normalization"
      ]
    },
    {
      "cell_type": "code",
      "metadata": {
        "id": "VK4HUwLC_akD",
        "colab_type": "code",
        "colab": {}
      },
      "source": [
        "X_train = X_train / 255.0\n",
        "X_test = X_test / 255.0"
      ],
      "execution_count": null,
      "outputs": []
    },
    {
      "cell_type": "code",
      "metadata": {
        "id": "Q2A1OrRg_bD8",
        "colab_type": "code",
        "colab": {
          "base_uri": "https://localhost:8080/",
          "height": 36
        },
        "outputId": "06ccde72-ee6f-4132-aa45-a35274d3af81"
      },
      "source": [
        "X_train.shape"
      ],
      "execution_count": null,
      "outputs": [
        {
          "output_type": "execute_result",
          "data": {
            "text/plain": [
              "(50000, 32, 32, 3)"
            ]
          },
          "metadata": {
            "tags": []
          },
          "execution_count": 5
        }
      ]
    },
    {
      "cell_type": "markdown",
      "metadata": {
        "id": "HO6nL_9sBLPo",
        "colab_type": "text"
      },
      "source": [
        "## Step 4: Defining the model\n",
        "\n",
        "NOTE: We are using the model from the Section for Convolutional neural networks"
      ]
    },
    {
      "cell_type": "code",
      "metadata": {
        "id": "FHyAvU8OA_aq",
        "colab_type": "code",
        "colab": {
          "base_uri": "https://localhost:8080/",
          "height": 93
        },
        "outputId": "71d2afb7-377d-412e-b813-235e9f3a390a"
      },
      "source": [
        "model = tf.keras.models.Sequential()\n",
        "model.add(tf.keras.layers.Conv2D(filters=32, kernel_size=3, padding=\"same\", activation=\"relu\", input_shape=[32, 32, 3]))\n",
        "model.add(tf.keras.layers.Conv2D(filters=32, kernel_size=3, padding=\"same\", activation=\"relu\"))\n",
        "model.add(tf.keras.layers.MaxPool2D(pool_size=2, strides=2, padding='valid'))\n",
        "model.add(tf.keras.layers.Conv2D(filters=64, kernel_size=3, padding=\"same\", activation=\"relu\"))\n",
        "model.add(tf.keras.layers.Conv2D(filters=64, kernel_size=3, padding=\"same\", activation=\"relu\"))\n",
        "model.add(tf.keras.layers.MaxPool2D(pool_size=2, strides=2, padding='valid'))\n",
        "model.add(tf.keras.layers.Flatten())\n",
        "model.add(tf.keras.layers.Dense(units=128, activation='relu'))\n",
        "model.add(tf.keras.layers.Dense(units=10, activation='softmax'))"
      ],
      "execution_count": null,
      "outputs": [
        {
          "output_type": "stream",
          "text": [
            "WARNING:tensorflow:From /usr/local/lib/python3.6/dist-packages/tensorflow/python/ops/resource_variable_ops.py:435: colocate_with (from tensorflow.python.framework.ops) is deprecated and will be removed in a future version.\n",
            "Instructions for updating:\n",
            "Colocations handled automatically by placer.\n"
          ],
          "name": "stdout"
        }
      ]
    },
    {
      "cell_type": "markdown",
      "metadata": {
        "id": "J-7vFhykBgMj",
        "colab_type": "text"
      },
      "source": [
        "### Compiling the model"
      ]
    },
    {
      "cell_type": "code",
      "metadata": {
        "id": "5nqrVFn3BkeS",
        "colab_type": "code",
        "colab": {}
      },
      "source": [
        "model.compile(optimizer='Adam', \n",
        "              loss='sparse_categorical_crossentropy', \n",
        "              metrics=['sparse_categorical_accuracy'])"
      ],
      "execution_count": null,
      "outputs": []
    },
    {
      "cell_type": "markdown",
      "metadata": {
        "id": "JJ1X_hgBBmx9",
        "colab_type": "text"
      },
      "source": [
        "### Training the model"
      ]
    },
    {
      "cell_type": "code",
      "metadata": {
        "id": "I7FSeHUkBpUq",
        "colab_type": "code",
        "colab": {
          "base_uri": "https://localhost:8080/",
          "height": 410
        },
        "outputId": "be1f5cb8-907f-4a04-dd1d-62fe6e9248c0"
      },
      "source": [
        "model.fit(X_train, \n",
        "          y_train, \n",
        "          batch_size=128, \n",
        "          epochs=10)"
      ],
      "execution_count": null,
      "outputs": [
        {
          "output_type": "stream",
          "text": [
            "Epoch 1/10\n",
            "50000/50000 [==============================] - 7s 141us/sample - loss: 1.4657 - sparse_categorical_accuracy: 0.4686\n",
            "Epoch 2/10\n",
            "50000/50000 [==============================] - 5s 96us/sample - loss: 1.0144 - sparse_categorical_accuracy: 0.6450\n",
            "Epoch 3/10\n",
            "50000/50000 [==============================] - 5s 96us/sample - loss: 0.8384 - sparse_categorical_accuracy: 0.7076\n",
            "Epoch 4/10\n",
            "50000/50000 [==============================] - 5s 95us/sample - loss: 0.7225 - sparse_categorical_accuracy: 0.7475\n",
            "Epoch 5/10\n",
            "50000/50000 [==============================] - 5s 96us/sample - loss: 0.6239 - sparse_categorical_accuracy: 0.7837\n",
            "Epoch 6/10\n",
            "50000/50000 [==============================] - 5s 96us/sample - loss: 0.5285 - sparse_categorical_accuracy: 0.8161\n",
            "Epoch 7/10\n",
            "50000/50000 [==============================] - 5s 96us/sample - loss: 0.4438 - sparse_categorical_accuracy: 0.8440\n",
            "Epoch 8/10\n",
            "50000/50000 [==============================] - 5s 96us/sample - loss: 0.3632 - sparse_categorical_accuracy: 0.8737\n",
            "Epoch 9/10\n",
            "50000/50000 [==============================] - 5s 96us/sample - loss: 0.2873 - sparse_categorical_accuracy: 0.8995\n",
            "Epoch 10/10\n",
            "50000/50000 [==============================] - 5s 97us/sample - loss: 0.2249 - sparse_categorical_accuracy: 0.9218\n"
          ],
          "name": "stdout"
        },
        {
          "output_type": "execute_result",
          "data": {
            "text/plain": [
              "<tensorflow.python.keras.callbacks.History at 0x7fa93c426eb8>"
            ]
          },
          "metadata": {
            "tags": []
          },
          "execution_count": 12
        }
      ]
    },
    {
      "cell_type": "markdown",
      "metadata": {
        "id": "g6k_gnv5BqdT",
        "colab_type": "text"
      },
      "source": [
        "### Model evaluation"
      ]
    },
    {
      "cell_type": "code",
      "metadata": {
        "id": "l0nHalVeBtAy",
        "colab_type": "code",
        "colab": {
          "base_uri": "https://localhost:8080/",
          "height": 36
        },
        "outputId": "11a50a8b-ccb7-455d-8b40-39270a88822b"
      },
      "source": [
        "test_loss, test_accuracy = model.evaluate(X_test, y_test)"
      ],
      "execution_count": null,
      "outputs": [
        {
          "output_type": "stream",
          "text": [
            "10000/10000 [==============================] - 1s 98us/sample - loss: 0.9765 - sparse_categorical_accuracy: 0.7377\n"
          ],
          "name": "stdout"
        }
      ]
    },
    {
      "cell_type": "code",
      "metadata": {
        "id": "u9q7jsTuBuxT",
        "colab_type": "code",
        "colab": {
          "base_uri": "https://localhost:8080/",
          "height": 36
        },
        "outputId": "a14aa710-b056-467b-a651-f171e221d83b"
      },
      "source": [
        "print(\"Test accuracy is {}\".format(test_accuracy))"
      ],
      "execution_count": null,
      "outputs": [
        {
          "output_type": "stream",
          "text": [
            "Test accuracy is 0.7376999855041504\n"
          ],
          "name": "stdout"
        }
      ]
    },
    {
      "cell_type": "markdown",
      "metadata": {
        "id": "945L3-2rDjFe",
        "colab_type": "text"
      },
      "source": [
        "## Step 5: Saving the model for production"
      ]
    },
    {
      "cell_type": "markdown",
      "metadata": {
        "id": "5a5uCiniDmgY",
        "colab_type": "text"
      },
      "source": [
        "### Creating the directory for the model"
      ]
    },
    {
      "cell_type": "code",
      "metadata": {
        "id": "YonroqRrC3sM",
        "colab_type": "code",
        "colab": {}
      },
      "source": [
        "MODEL_DIR = \"model/\"\n",
        "version = 1"
      ],
      "execution_count": null,
      "outputs": []
    },
    {
      "cell_type": "code",
      "metadata": {
        "id": "07NyMUGYEMNF",
        "colab_type": "code",
        "colab": {
          "base_uri": "https://localhost:8080/",
          "height": 36
        },
        "outputId": "70166744-1c90-44fe-b750-d6df8a4469dd"
      },
      "source": [
        "export_path = os.path.join(MODEL_DIR, str(version))\n",
        "export_path"
      ],
      "execution_count": null,
      "outputs": [
        {
          "output_type": "execute_result",
          "data": {
            "text/plain": [
              "'model/1'"
            ]
          },
          "metadata": {
            "tags": []
          },
          "execution_count": 7
        }
      ]
    },
    {
      "cell_type": "code",
      "metadata": {
        "id": "jln7YavbEczA",
        "colab_type": "code",
        "colab": {}
      },
      "source": [
        "if os.path.isdir(export_path):\n",
        "    !rm -r {export_path}"
      ],
      "execution_count": null,
      "outputs": []
    },
    {
      "cell_type": "markdown",
      "metadata": {
        "id": "0RA2HuIUDrDQ",
        "colab_type": "text"
      },
      "source": [
        "### Saving the model for the TensorFlow Serving"
      ]
    },
    {
      "cell_type": "code",
      "metadata": {
        "id": "19DG8IkIDv4S",
        "colab_type": "code",
        "colab": {
          "base_uri": "https://localhost:8080/",
          "height": 205
        },
        "outputId": "9a041e49-2537-435f-ec96-446407d1d267"
      },
      "source": [
        "tf.saved_model.simple_save(tf.keras.backend.get_session(), export_dir=export_path, inputs={\"input_image\":model.input}, outputs={t.name:t for t in model.outputs})"
      ],
      "execution_count": null,
      "outputs": [
        {
          "output_type": "stream",
          "text": [
            "WARNING:tensorflow:From <ipython-input-18-f70a5d463003>:1: simple_save (from tensorflow.python.saved_model.simple_save) is deprecated and will be removed in a future version.\n",
            "Instructions for updating:\n",
            "This function will only be available through the v1 compatibility library as tf.compat.v1.saved_model.simple_save.\n",
            "WARNING:tensorflow:From /usr/local/lib/python3.6/dist-packages/tensorflow/python/saved_model/signature_def_utils_impl.py:205: build_tensor_info (from tensorflow.python.saved_model.utils_impl) is deprecated and will be removed in a future version.\n",
            "Instructions for updating:\n",
            "This function will only be available through the v1 compatibility library as tf.compat.v1.saved_model.utils.build_tensor_info or tf.compat.v1.saved_model.build_tensor_info.\n",
            "INFO:tensorflow:Assets added to graph.\n",
            "INFO:tensorflow:No assets to write.\n",
            "INFO:tensorflow:SavedModel written to: model/1/saved_model.pb\n"
          ],
          "name": "stdout"
        }
      ]
    },
    {
      "cell_type": "markdown",
      "metadata": {
        "id": "1o8BlXcBFvIm",
        "colab_type": "text"
      },
      "source": [
        "## Step 6: Setting up the production environment"
      ]
    },
    {
      "cell_type": "markdown",
      "metadata": {
        "id": "rSFWzxOrF0ft",
        "colab_type": "text"
      },
      "source": [
        "### Exporting the MODEL_DIR to environment variables"
      ]
    },
    {
      "cell_type": "code",
      "metadata": {
        "id": "BS6wsQthLX_i",
        "colab_type": "code",
        "colab": {}
      },
      "source": [
        "os.environ['MODEL_DIR'] = os.path.abspath(MODEL_DIR)"
      ],
      "execution_count": null,
      "outputs": []
    },
    {
      "cell_type": "markdown",
      "metadata": {
        "id": "8TXejqj5F5oj",
        "colab_type": "text"
      },
      "source": [
        "### Running the TensorFlow Serving REST API"
      ]
    },
    {
      "cell_type": "code",
      "metadata": {
        "id": "oWjUhJA4KGWy",
        "colab_type": "code",
        "colab": {
          "base_uri": "https://localhost:8080/",
          "height": 36
        },
        "outputId": "4afe9b28-fc80-446d-a5b6-f1cf31d2c3bf"
      },
      "source": [
        "%%bash --bg\n",
        "nohup tensorflow_model_server --rest_api_port=8501 --model_name=cifar10 --model_base_path=\"${MODEL_DIR}\" >server.log 2>&1"
      ],
      "execution_count": null,
      "outputs": [
        {
          "output_type": "stream",
          "text": [
            "Starting job # 0 in a separate thread.\n"
          ],
          "name": "stdout"
        }
      ]
    },
    {
      "cell_type": "code",
      "metadata": {
        "id": "iPa7fGZ5NHL5",
        "colab_type": "code",
        "colab": {
          "base_uri": "https://localhost:8080/",
          "height": 224
        },
        "outputId": "3a402a20-83a5-4156-a3d3-10cfd5b4a158"
      },
      "source": [
        "!tail server.log"
      ],
      "execution_count": null,
      "outputs": [
        {
          "output_type": "stream",
          "text": [
            "2019-05-18 20:29:27.796175: E tensorflow_serving/sources/storage_path/file_system_storage_path_source.cc:369] FileSystemStoragePathSource encountered a file-system access error: Could not find base path /content//content/model for servable cifar10\n",
            "2019-05-18 20:29:28.796442: E tensorflow_serving/sources/storage_path/file_system_storage_path_source.cc:369] FileSystemStoragePathSource encountered a file-system access error: Could not find base path /content//content/model for servable cifar10\n",
            "2019-05-18 20:29:29.796596: E tensorflow_serving/sources/storage_path/file_system_storage_path_source.cc:369] FileSystemStoragePathSource encountered a file-system access error: Could not find base path /content//content/model for servable cifar10\n",
            "2019-05-18 20:29:30.796709: E tensorflow_serving/sources/storage_path/file_system_storage_path_source.cc:369] FileSystemStoragePathSource encountered a file-system access error: Could not find base path /content//content/model for servable cifar10\n",
            "2019-05-18 20:29:31.796896: E tensorflow_serving/sources/storage_path/file_system_storage_path_source.cc:369] FileSystemStoragePathSource encountered a file-system access error: Could not find base path /content//content/model for servable cifar10\n",
            "2019-05-18 20:29:32.797055: E tensorflow_serving/sources/storage_path/file_system_storage_path_source.cc:369] FileSystemStoragePathSource encountered a file-system access error: Could not find base path /content//content/model for servable cifar10\n",
            "2019-05-18 20:29:33.797140: E tensorflow_serving/sources/storage_path/file_system_storage_path_source.cc:369] FileSystemStoragePathSource encountered a file-system access error: Could not find base path /content//content/model for servable cifar10\n",
            "2019-05-18 20:29:34.797238: E tensorflow_serving/sources/storage_path/file_system_storage_path_source.cc:369] FileSystemStoragePathSource encountered a file-system access error: Could not find base path /content//content/model for servable cifar10\n",
            "2019-05-18 20:29:35.797337: E tensorflow_serving/sources/storage_path/file_system_storage_path_source.cc:369] FileSystemStoragePathSource encountered a file-system access error: Could not find base path /content//content/model for servable cifar10\n",
            "2019-05-18 20:29:36.797524: E tensorflow_serving/sources/storage_path/file_system_storage_path_source.cc:369] FileSystemStoragePathSource encountered a file-system access error: Could not find base path /content//content/model for servable cifar10\n"
          ],
          "name": "stdout"
        }
      ]
    },
    {
      "cell_type": "markdown",
      "metadata": {
        "id": "ICEqKpKUOC2F",
        "colab_type": "text"
      },
      "source": [
        "## Step 7: Creating the first POST request"
      ]
    },
    {
      "cell_type": "code",
      "metadata": {
        "id": "AvjZyyPIN3Zq",
        "colab_type": "code",
        "colab": {
          "base_uri": "https://localhost:8080/",
          "height": 36
        },
        "outputId": "a73f414d-6473-43b8-c677-d092ee6ec477"
      },
      "source": [
        "random_image = np.random.randint(0, len(X_test))\n",
        "random_image"
      ],
      "execution_count": null,
      "outputs": [
        {
          "output_type": "execute_result",
          "data": {
            "text/plain": [
              "620"
            ]
          },
          "metadata": {
            "tags": []
          },
          "execution_count": 16
        }
      ]
    },
    {
      "cell_type": "markdown",
      "metadata": {
        "id": "tqOfIBMNOK8p",
        "colab_type": "text"
      },
      "source": [
        "### Creating the JSON data object"
      ]
    },
    {
      "cell_type": "code",
      "metadata": {
        "id": "nB57JR6wONOI",
        "colab_type": "code",
        "colab": {}
      },
      "source": [
        "data = json.dumps({\"signature_name\":\"serving_default\", \"instances\":[X_test[random_image].tolist()]})"
      ],
      "execution_count": null,
      "outputs": []
    },
    {
      "cell_type": "markdown",
      "metadata": {
        "id": "KZDKjyfbPoIa",
        "colab_type": "text"
      },
      "source": [
        "### Sending the first POST request to the model"
      ]
    },
    {
      "cell_type": "code",
      "metadata": {
        "id": "7oFbtxiyPe4p",
        "colab_type": "code",
        "colab": {}
      },
      "source": [
        "headers = {\"content-type\":\"application/json\"}"
      ],
      "execution_count": null,
      "outputs": []
    },
    {
      "cell_type": "code",
      "metadata": {
        "id": "I5KHh02nQYIJ",
        "colab_type": "code",
        "colab": {}
      },
      "source": [
        "json_response = requests.post(url=\"http://localhost:8501/v1/models/cifar10:predict\", data=data, headers=headers)"
      ],
      "execution_count": null,
      "outputs": []
    },
    {
      "cell_type": "code",
      "metadata": {
        "id": "bMYkCQ4gQ2tR",
        "colab_type": "code",
        "colab": {
          "base_uri": "https://localhost:8080/",
          "height": 36
        },
        "outputId": "b7f0dee5-1b6d-43fb-f1db-6c5388652061"
      },
      "source": [
        "json_response"
      ],
      "execution_count": null,
      "outputs": [
        {
          "output_type": "execute_result",
          "data": {
            "text/plain": [
              "<Response [200]>"
            ]
          },
          "metadata": {
            "tags": []
          },
          "execution_count": 21
        }
      ]
    },
    {
      "cell_type": "code",
      "metadata": {
        "id": "UtoG2441Q4_I",
        "colab_type": "code",
        "colab": {}
      },
      "source": [
        "predictions = json.loads(json_response.text)['predictions']"
      ],
      "execution_count": null,
      "outputs": []
    },
    {
      "cell_type": "code",
      "metadata": {
        "id": "hA-jN6xSRK2S",
        "colab_type": "code",
        "colab": {
          "base_uri": "https://localhost:8080/",
          "height": 204
        },
        "outputId": "2733a092-8558-4630-a566-edefc86b67ec"
      },
      "source": [
        "predictions"
      ],
      "execution_count": null,
      "outputs": [
        {
          "output_type": "execute_result",
          "data": {
            "text/plain": [
              "[[1.43151e-05,\n",
              "  8.25434e-09,\n",
              "  0.00420625,\n",
              "  0.0147217,\n",
              "  0.0125217,\n",
              "  0.00353992,\n",
              "  0.000103995,\n",
              "  0.964891,\n",
              "  1.08745e-06,\n",
              "  5.2131e-09]]"
            ]
          },
          "metadata": {
            "tags": []
          },
          "execution_count": 23
        }
      ]
    },
    {
      "cell_type": "code",
      "metadata": {
        "id": "KlyFNxrxRL_A",
        "colab_type": "code",
        "colab": {
          "base_uri": "https://localhost:8080/",
          "height": 288
        },
        "outputId": "9f5e40d2-d793-443d-bd7a-f5bc007a5bd5"
      },
      "source": [
        "plt.imshow(X_test[random_image])"
      ],
      "execution_count": null,
      "outputs": [
        {
          "output_type": "execute_result",
          "data": {
            "text/plain": [
              "<matplotlib.image.AxesImage at 0x7f6b1b94cf60>"
            ]
          },
          "metadata": {
            "tags": []
          },
          "execution_count": 24
        },
        {
          "output_type": "display_data",
          "data": {
            "image/png": "[encoded data removed]",
            "text/plain": [
              "<Figure size 432x288 with 1 Axes>"
            ]
          },
          "metadata": {
            "tags": []
          }
        }
      ]
    },
    {
      "cell_type": "code",
      "metadata": {
        "id": "E3WbrMl_RW1Y",
        "colab_type": "code",
        "colab": {
          "base_uri": "https://localhost:8080/",
          "height": 36
        },
        "outputId": "f8089ea0-1391-449a-cfa4-d873999a8812"
      },
      "source": [
        "class_names[np.argmax(predictions[0])]"
      ],
      "execution_count": null,
      "outputs": [
        {
          "output_type": "execute_result",
          "data": {
            "text/plain": [
              "'horse'"
            ]
          },
          "metadata": {
            "tags": []
          },
          "execution_count": 25
        }
      ]
    },
    {
      "cell_type": "markdown",
      "metadata": {
        "id": "OVN6T3tFR_IQ",
        "colab_type": "text"
      },
      "source": [
        "## Step 8: Sending the POST request to a specific model"
      ]
    },
    {
      "cell_type": "code",
      "metadata": {
        "id": "5TYXGo-XRkCo",
        "colab_type": "code",
        "colab": {}
      },
      "source": [
        "specific_json_response = requests.post(url=\"http://localhost:8501/v1/models/cifar10/versions/1:predict\", data=data, headers=headers)"
      ],
      "execution_count": null,
      "outputs": []
    },
    {
      "cell_type": "code",
      "metadata": {
        "id": "TF9nOKVeS9ER",
        "colab_type": "code",
        "colab": {
          "base_uri": "https://localhost:8080/",
          "height": 36
        },
        "outputId": "c294eded-4efd-485e-b17c-a095796d85ca"
      },
      "source": [
        "specific_json_response"
      ],
      "execution_count": null,
      "outputs": [
        {
          "output_type": "execute_result",
          "data": {
            "text/plain": [
              "<Response [200]>"
            ]
          },
          "metadata": {
            "tags": []
          },
          "execution_count": 27
        }
      ]
    },
    {
      "cell_type": "code",
      "metadata": {
        "id": "EZGwCkeMS-qg",
        "colab_type": "code",
        "colab": {}
      },
      "source": [
        ""
      ],
      "execution_count": null,
      "outputs": []
    }
  ]
}